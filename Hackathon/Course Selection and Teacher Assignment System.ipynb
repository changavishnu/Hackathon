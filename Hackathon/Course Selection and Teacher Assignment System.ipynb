{
  "nbformat": 4,
  "nbformat_minor": 0,
  "metadata": {
    "colab": {
      "provenance": []
    },
    "kernelspec": {
      "name": "python3",
      "display_name": "Python 3"
    },
    "language_info": {
      "name": "python"
    }
  },
  "cells": [
    {
      "cell_type": "markdown",
      "source": [
        "<h1>Course Selection and Teacher Assignment System"
      ],
      "metadata": {
        "id": "lnKJSf1pCgBC"
      }
    },
    {
      "cell_type": "markdown",
      "source": [
        "1.**Database Class Initialization**<br>\n",
        "<small>**Purpose:** Manages the database connection, creates tables, and commits changes to the SQLite database.</h6><br>\n",
        "**Code:**"
      ],
      "metadata": {
        "id": "SPs-DwC8raYm"
      }
    },
    {
      "cell_type": "markdown",
      "source": [
        "\n",
        "**2. init_db Method**<br>\n",
        "<small>**Purpose:** Creates five tables (students, teachers, semesters, courses, and feedback) if they don't already exist.</h6><br>\n",
        "**Code:**\n",
        "\n",
        "\n"
      ],
      "metadata": {
        "id": "wJudDHFvspNT"
      }
    },
    {
      "cell_type": "code",
      "source": [
        "class Database:\n",
        "    def __init__(self):\n",
        "        self.connection = sqlite3.connect(\"university.db\")\n",
        "        self.cursor = self.connection.cursor()\n",
        "        self.init_db()\n",
        "\n",
        "    def init_db(self):\n",
        "      self.cursor.execute('''\n",
        "        CREATE TABLE IF NOT EXISTS students (\n",
        "            id INTEGER PRIMARY KEY AUTOINCREMENT,\n",
        "            name TEXT NOT NULL\n",
        "        )\n",
        "    ''')\n",
        "\n",
        "      self.cursor.execute('''\n",
        "      CREATE TABLE IF NOT EXISTS teachers (\n",
        "                id INTEGER PRIMARY KEY AUTOINCREMENT,\n",
        "                name TEXT NOT NULL,\n",
        "                rating REAL DEFAULT 0.0,\n",
        "                research_projects TEXT,\n",
        "                patents TEXT,\n",
        "                background TEXT\n",
        "            )\n",
        "        ''')\n",
        "\n",
        "      self.cursor.execute('''\n",
        "            CREATE TABLE IF NOT EXISTS semesters (\n",
        "                id INTEGER PRIMARY KEY AUTOINCREMENT,\n",
        "                semester_number TEXT NOT NULL\n",
        "            )\n",
        "        ''')\n",
        "\n",
        "      self.cursor.execute('''\n",
        "            CREATE TABLE IF NOT EXISTS courses (\n",
        "                id INTEGER PRIMARY KEY AUTOINCREMENT,\n",
        "                name TEXT NOT NULL,\n",
        "                type TEXT CHECK(type IN ('theory', 'lab')),\n",
        "                teacher_id INTEGER,\n",
        "                semester_id INTEGER,\n",
        "                FOREIGN KEY(teacher_id) REFERENCES teachers(id),\n",
        "                FOREIGN KEY(semester_id) REFERENCES semesters(id)\n",
        "            )\n",
        "        ''')\n",
        "\n",
        "      self.cursor.execute('''\n",
        "            CREATE TABLE IF NOT EXISTS feedback (\n",
        "                id INTEGER PRIMARY KEY AUTOINCREMENT,\n",
        "                student_id INTEGER,\n",
        "                teacher_id INTEGER,\n",
        "                comment TEXT,\n",
        "                FOREIGN KEY(student_id) REFERENCES students(id),\n",
        "                FOREIGN KEY(teacher_id) REFERENCES teachers(id)\n",
        "            )\n",
        "        ''')\n",
        "\n",
        "      self.connection.commit()\n",
        "\n",
        "    def close(self):\n",
        "        self.connection.close()"
      ],
      "metadata": {
        "id": "xKVB7bANtBUW"
      },
      "execution_count": null,
      "outputs": []
    },
    {
      "cell_type": "markdown",
      "source": [
        "*Each table has specific columns and constraints:<br>*\n",
        "**students:** <small>Stores student ID and name.</small><br>\n",
        "**teachers:** <small>Stores teacher details, including name, rating, research projects, patents, and background</small>.<br>\n",
        "**semesters:** <small>Stores semester numbers.</small><br>\n",
        "**courses:** <small>Stores course details, type, and links to the teacher and semester.</small><br>\n",
        "**feedback:** <small>Allows students to give feedback to teachers.</small>"
      ],
      "metadata": {
        "id": "Fn8rQrz_tr3k"
      }
    },
    {
      "cell_type": "markdown",
      "source": [
        "**3.CourseSelectionSystem Class**<br>\n",
        "**Purpose:** <small>Handles all actions within the system, such as adding students, teachers, semesters, courses, assigning courses, and viewing feedback.</small><br>\n",
        "**Code:**"
      ],
      "metadata": {
        "id": "Q20A320tutfh"
      }
    },
    {
      "cell_type": "code",
      "source": [
        "class CourseSelectionSystem:\n",
        "    def __init__(self):\n",
        "        self.db = Database()\n",
        "\n",
        "    def add_student(self):\n",
        "      name = input(\"Enter student name: \")\n",
        "      self.db.cursor.execute(\"INSERT INTO students (name) VALUES (?)\", (name,))\n",
        "      self.db.connection.commit()\n",
        "      print(f\"Student '{name}' added successfully.\")\n",
        "\n",
        "    def add_teacher(self):\n",
        "        name = input(\"Enter teacher name: \")\n",
        "        rating = float(input(\"Enter teacher rating: \"))\n",
        "        research_projects = input(\"Enter research projects: \")\n",
        "        patents = input(\"Enter patents: \")\n",
        "        background = input(\"Enter academic background: \")\n",
        "        self.db.cursor.execute(\n",
        "            \"INSERT INTO teachers (name, rating, research_projects, patents, background) VALUES (?, ?, ?, ?, ?)\",\n",
        "            (name, rating, research_projects, patents, background))\n",
        "        self.db.connection.commit()\n",
        "        print(f\"Teacher '{name}' added successfully.\")\n",
        "\n",
        "    def add_semester(self):\n",
        "      semester_number = input(\"Enter semester number: \")\n",
        "      if int(semester_number) > 2:\n",
        "        print(\"Error: You can enter only 2 semesters \")\n",
        "      else:\n",
        "        self.db.cursor.execute(\"INSERT INTO semesters (semester_number)VALUES (?)\", (semester_number,))\n",
        "        self.db.connection.commit()\n",
        "        print(f\"Semester '{semester_number}' added successfully.\")\n",
        "\n",
        "\n",
        "\n",
        "    def add_course(self):\n",
        "      name = input(\"Enter course name: \")\n",
        "      course_type = input(\"Enter course type (theory/lab): \")\n",
        "      teacher_id = int(input(\"Enter teacher ID: \"))\n",
        "      semester_id = int(input(\"Enter semester ID: \"))\n",
        "      self.db.cursor.execute(\n",
        "            \"INSERT INTO courses (name, type, teacher_id, semester_id) VALUES (?, ?, ?, ?)\",\n",
        "            (name, course_type, teacher_id, semester_id))\n",
        "      self.db.connection.commit()\n",
        "      print(f\"Course '{name}' added successfully.\")\n",
        "\n",
        "    def assign_courses(self):\n",
        "      student_id = int(input(\"Enter student ID to assign courses: \"))\n",
        "      semester_id = int(input(\"Enter semester ID: \"))\n",
        "\n",
        "      theory_courses = input(\"Enter theory course IDs (comma-separated): \").split(',')\n",
        "      lab_courses = input(\"Enter lab course IDs (comma-separated): \").split(',')\n",
        "\n",
        "      theory_courses = [int(course.strip()) for course in theory_courses]\n",
        "      lab_courses = [int(course.strip()) for course in lab_courses]\n",
        "\n",
        "      if len(theory_courses) > 4 or len(lab_courses) > 2:\n",
        "        print(\"Error: You can only select 4 theory courses and 2 lab courses.\")\n",
        "        return\n",
        "\n",
        "      for course_id in theory_courses + lab_courses:\n",
        "        self.db.cursor.execute(\"UPDATE courses SET teacher_id = ? WHERE id = ?\", (student_id, course_id))\n",
        "\n",
        "      self.db.connection.commit()\n",
        "      print(\"Courses assigned successfully.\")\n",
        "\n",
        "    def submit_feedback(self):\n",
        "      student_id = int(input(\"Enter your student ID: \"))\n",
        "      teacher_id = int(input(\"Enter teacher ID: \"))\n",
        "      comment = input(\"Enter your feedback: \")\n",
        "      self.db.cursor.execute(\"INSERT INTO feedback (student_id, teacher_id, comment) VALUES (?, ?, ?)\",\n",
        "                               (student_id, teacher_id, comment))\n",
        "      self.db.connection.commit()\n",
        "      print(\"Feedback submitted successfully.\")\n",
        "\n",
        "    def view_feedback(self):\n",
        "      self.db.cursor.execute(\"SELECT * FROM feedback\")\n",
        "      feedback = self.db.cursor.fetchall()\n",
        "\n",
        "      print(\"Feedback:\")\n",
        "      for row in feedback:\n",
        "        print(f\"Student ID: {row[1]}, Teacher ID: {row[2]}, Comment: {row[3]}\")\n",
        "\n",
        "    def view_teacher_profiles(self):\n",
        "      self.db.cursor.execute(\"SELECT * FROM teachers\")\n",
        "      teachers = self.db.cursor.fetchall()\n",
        "\n",
        "      for teacher in teachers:\n",
        "        print(f\"ID: {teacher[0]}, Name: {teacher[1]}, Rating: {teacher[2]}, \"\n",
        "                  f\"Research Projects: {teacher[3]}, Patents: {teacher[4]}, Background: {teacher[5]}\")\n",
        "\n",
        "    def view_courses(self):\n",
        "      self.db.cursor.execute(\"SELECT * FROM courses\")\n",
        "      courses = self.db.cursor.fetchall()\n",
        "\n",
        "      for course in courses:\n",
        "          print(f\"ID: {course[0]}, Name: {course[1]}, Type: {course[2]}, Teacher ID: {course[3]}, Semester ID: {course[4]}\")\n",
        "\n",
        "    def view_semesters(self):\n",
        "      self.db.cursor.execute(\"SELECT * FROM semesters\")\n",
        "      semesters = self.db.cursor.fetchall()\n",
        "\n",
        "      for semester in semesters:\n",
        "          print(f\"ID: {semester[0]}, Semester: {semester[1]}\")"
      ],
      "metadata": {
        "id": "WDixFjlUuqPw"
      },
      "execution_count": 45,
      "outputs": []
    },
    {
      "cell_type": "markdown",
      "source": [
        "**4.Method Breakdown**<br><small>\n",
        "**add_student:** Adds a new student to the students table.</small>"
      ],
      "metadata": {
        "id": "PbrJQNcbvWJ0"
      }
    },
    {
      "cell_type": "markdown",
      "source": [
        "<small>**add_teacher:** <br>Adds a new teacher to the teachers table. The teacher's rating, research projects, patents, and background are also recorded.</small>"
      ],
      "metadata": {
        "id": "0LdDIMmevlBa"
      }
    },
    {
      "cell_type": "markdown",
      "source": [
        "<small>**add_semester:** <br>Adds a semester to the semesters table but limits the user to entering only 2 semesters.</small>"
      ],
      "metadata": {
        "id": "WE1v_vYdwKgk"
      }
    },
    {
      "cell_type": "markdown",
      "source": [
        "<small>**add_course:** <br>Adds a course to the courses table, linking it to a teacher and semester."
      ],
      "metadata": {
        "id": "0oDkMJMDwZxT"
      }
    },
    {
      "cell_type": "markdown",
      "source": [
        "<small>**assign_courses:** <br>Allows a student to select up to 4 theory and 2 lab courses. The system ensures that these limits are respected before assigning courses."
      ],
      "metadata": {
        "id": "tUVx_s9twqog"
      }
    },
    {
      "cell_type": "markdown",
      "source": [
        "<small>**submit_feedback:** <br>Allows students to provide feedback on a teacher. The feedback is stored in the feedback table."
      ],
      "metadata": {
        "id": "NbchhWyQxH1_"
      }
    },
    {
      "cell_type": "markdown",
      "source": [
        "<small>**view_feedback:** <br>Displays all feedback entries from the feedback table."
      ],
      "metadata": {
        "id": "ln2hutUlxd_B"
      }
    },
    {
      "cell_type": "markdown",
      "source": [
        "<small>**view_teacher_profiles:** <br>Displays all teacher profiles stored in the teachers table."
      ],
      "metadata": {
        "id": "VhTCY1Jgx8dV"
      }
    },
    {
      "cell_type": "markdown",
      "source": [
        "<small>**view_courses:**<br> Displays all courses stored in the courses table."
      ],
      "metadata": {
        "id": "jROjWVeGyi7J"
      }
    },
    {
      "cell_type": "markdown",
      "source": [
        "<small>**view_semesters:** <br>Displays all semester numbers from the semesters table."
      ],
      "metadata": {
        "id": "uA5BXU-Iy5kh"
      }
    },
    {
      "cell_type": "markdown",
      "source": [
        "**5.Main Program**<br>\n",
        "**Purpose:** <br><small>The __main__ section creates an interactive console where users can choose between different system operations.</small>\n",
        "\n",
        "**Code:**"
      ],
      "metadata": {
        "id": "1MEfdPvGzIp4"
      }
    },
    {
      "cell_type": "code",
      "source": [
        "if __name__ == \"__main__\":\n",
        "    system = CourseSelectionSystem()\n",
        "    while True:\n",
        "        print(\"\\n1. Add Student\")\n",
        "        print(\"2. Add Teacher\")\n",
        "        print(\"3. Add Semester\")\n",
        "        print(\"4. Add Course\")\n",
        "        print(\"5. Assign Courses\")\n",
        "        print(\"6. Submit Feedback\")\n",
        "        print(\"7. View Teacher Profiles\")\n",
        "        print(\"8. View Courses\")\n",
        "        print(\"9. View Semesters\")\n",
        "        print(\"10. View Feedback\")\n",
        "        print(\"11. Exit\")\n",
        "        choice = input(\"Enter your choice: \")\n",
        "        # Perform operations based on user input\n",
        "\n",
        "        if choice == '1':\n",
        "            system.add_student()\n",
        "        elif choice == '2':\n",
        "            system.add_teacher()\n",
        "        elif choice == '3':\n",
        "            system.add_semester()\n",
        "        elif choice == '4':\n",
        "            system.add_course()\n",
        "        elif choice == '5':\n",
        "            system.assign_courses()\n",
        "        elif choice == '6':\n",
        "            system.submit_feedback()\n",
        "        elif choice == '7':\n",
        "            system.view_teacher_profiles()\n",
        "        elif choice == '8':\n",
        "            system.view_courses()\n",
        "        elif choice == '9':\n",
        "            system.view_semesters()\n",
        "        elif choice == '10':\n",
        "            system.view_feedback()\n",
        "        elif choice == '11':\n",
        "            break\n",
        "        else:\n",
        "            print(\"Invalid choice. Please try again.\")\n"
      ],
      "metadata": {
        "colab": {
          "base_uri": "https://localhost:8080/"
        },
        "id": "BTqg3O172xtz",
        "outputId": "73e22f18-db99-4447-8baf-372861f0255e"
      },
      "execution_count": 46,
      "outputs": [
        {
          "name": "stdout",
          "output_type": "stream",
          "text": [
            "\n",
            "1. Add Student\n",
            "2. Add Teacher\n",
            "3. Add Semester\n",
            "4. Add Course\n",
            "5. Assign Courses\n",
            "6. Submit Feedback\n",
            "7. View Teacher Profiles\n",
            "8. View Courses\n",
            "9. View Semesters\n",
            "10. View Feedback\n",
            "11. Exit\n",
            "Enter your choice: 7\n",
            "ID: 1, Name: Abc, Rating: 5.0, Research Projects: Web, Patents: A, Background: Ph.D.\n",
            "\n",
            "1. Add Student\n",
            "2. Add Teacher\n",
            "3. Add Semester\n",
            "4. Add Course\n",
            "5. Assign Courses\n",
            "6. Submit Feedback\n",
            "7. View Teacher Profiles\n",
            "8. View Courses\n",
            "9. View Semesters\n",
            "10. View Feedback\n",
            "11. Exit\n",
            "Enter your choice: 3\n",
            "Enter semester number: 2\n",
            "Semester '2' added successfully.\n",
            "\n",
            "1. Add Student\n",
            "2. Add Teacher\n",
            "3. Add Semester\n",
            "4. Add Course\n",
            "5. Assign Courses\n",
            "6. Submit Feedback\n",
            "7. View Teacher Profiles\n",
            "8. View Courses\n",
            "9. View Semesters\n",
            "10. View Feedback\n",
            "11. Exit\n",
            "Enter your choice: 4\n",
            "Enter course name: python\n",
            "Enter course type (theory/lab): theory\n",
            "Enter teacher ID: 1\n",
            "Enter semester ID: 1\n",
            "Course 'python' added successfully.\n",
            "\n",
            "1. Add Student\n",
            "2. Add Teacher\n",
            "3. Add Semester\n",
            "4. Add Course\n",
            "5. Assign Courses\n",
            "6. Submit Feedback\n",
            "7. View Teacher Profiles\n",
            "8. View Courses\n",
            "9. View Semesters\n",
            "10. View Feedback\n",
            "11. Exit\n",
            "Enter your choice: 7\n",
            "ID: 1, Name: Abc, Rating: 5.0, Research Projects: Web, Patents: A, Background: Ph.D.\n",
            "\n",
            "1. Add Student\n",
            "2. Add Teacher\n",
            "3. Add Semester\n",
            "4. Add Course\n",
            "5. Assign Courses\n",
            "6. Submit Feedback\n",
            "7. View Teacher Profiles\n",
            "8. View Courses\n",
            "9. View Semesters\n",
            "10. View Feedback\n",
            "11. Exit\n",
            "Enter your choice: 4\n",
            "Enter course name: java\n",
            "Enter course type (theory/lab): lab\n",
            "Enter teacher ID: 2\n",
            "Enter semester ID: 2\n",
            "Course 'java' added successfully.\n",
            "\n",
            "1. Add Student\n",
            "2. Add Teacher\n",
            "3. Add Semester\n",
            "4. Add Course\n",
            "5. Assign Courses\n",
            "6. Submit Feedback\n",
            "7. View Teacher Profiles\n",
            "8. View Courses\n",
            "9. View Semesters\n",
            "10. View Feedback\n",
            "11. Exit\n",
            "Enter your choice: 5\n",
            "Enter student ID to assign courses: 2\n",
            "Enter semester ID: 2\n",
            "Enter theory course IDs (comma-separated): 1,2\n",
            "Enter lab course IDs (comma-separated): 2\n",
            "Courses assigned successfully.\n",
            "\n",
            "1. Add Student\n",
            "2. Add Teacher\n",
            "3. Add Semester\n",
            "4. Add Course\n",
            "5. Assign Courses\n",
            "6. Submit Feedback\n",
            "7. View Teacher Profiles\n",
            "8. View Courses\n",
            "9. View Semesters\n",
            "10. View Feedback\n",
            "11. Exit\n",
            "Enter your choice: 7\n",
            "ID: 1, Name: Abc, Rating: 5.0, Research Projects: Web, Patents: A, Background: Ph.D.\n",
            "\n",
            "1. Add Student\n",
            "2. Add Teacher\n",
            "3. Add Semester\n",
            "4. Add Course\n",
            "5. Assign Courses\n",
            "6. Submit Feedback\n",
            "7. View Teacher Profiles\n",
            "8. View Courses\n",
            "9. View Semesters\n",
            "10. View Feedback\n",
            "11. Exit\n",
            "Enter your choice: 8\n",
            "ID: 1, Name: data science, Type: theory, Teacher ID: 2, Semester ID: 1\n",
            "ID: 2, Name: python, Type: theory, Teacher ID: 2, Semester ID: 1\n",
            "ID: 3, Name: java, Type: lab, Teacher ID: 2, Semester ID: 2\n",
            "\n",
            "1. Add Student\n",
            "2. Add Teacher\n",
            "3. Add Semester\n",
            "4. Add Course\n",
            "5. Assign Courses\n",
            "6. Submit Feedback\n",
            "7. View Teacher Profiles\n",
            "8. View Courses\n",
            "9. View Semesters\n",
            "10. View Feedback\n",
            "11. Exit\n",
            "Enter your choice: 6\n",
            "Enter your student ID: 1\n",
            "Enter teacher ID: 2\n",
            "Enter your feedback: excellent\n",
            "Feedback submitted successfully.\n",
            "\n",
            "1. Add Student\n",
            "2. Add Teacher\n",
            "3. Add Semester\n",
            "4. Add Course\n",
            "5. Assign Courses\n",
            "6. Submit Feedback\n",
            "7. View Teacher Profiles\n",
            "8. View Courses\n",
            "9. View Semesters\n",
            "10. View Feedback\n",
            "11. Exit\n",
            "Enter your choice: 10\n",
            "Feedback:\n",
            "Student ID: 1, Teacher ID: 2, Comment: excellent\n",
            "\n",
            "1. Add Student\n",
            "2. Add Teacher\n",
            "3. Add Semester\n",
            "4. Add Course\n",
            "5. Assign Courses\n",
            "6. Submit Feedback\n",
            "7. View Teacher Profiles\n",
            "8. View Courses\n",
            "9. View Semesters\n",
            "10. View Feedback\n",
            "11. Exit\n",
            "Enter your choice: 1\n",
            "Enter student name: devi\n",
            "Student 'devi' added successfully.\n",
            "\n",
            "1. Add Student\n",
            "2. Add Teacher\n",
            "3. Add Semester\n",
            "4. Add Course\n",
            "5. Assign Courses\n",
            "6. Submit Feedback\n",
            "7. View Teacher Profiles\n",
            "8. View Courses\n",
            "9. View Semesters\n",
            "10. View Feedback\n",
            "11. Exit\n",
            "Enter your choice: 4\n",
            "Enter course name: c\n",
            "Enter course type (theory/lab): lab\n",
            "Enter teacher ID: 2\n",
            "Enter semester ID: 1\n",
            "Course 'c' added successfully.\n",
            "\n",
            "1. Add Student\n",
            "2. Add Teacher\n",
            "3. Add Semester\n",
            "4. Add Course\n",
            "5. Assign Courses\n",
            "6. Submit Feedback\n",
            "7. View Teacher Profiles\n",
            "8. View Courses\n",
            "9. View Semesters\n",
            "10. View Feedback\n",
            "11. Exit\n",
            "Enter your choice: 8\n",
            "ID: 1, Name: data science, Type: theory, Teacher ID: 2, Semester ID: 1\n",
            "ID: 2, Name: python, Type: theory, Teacher ID: 2, Semester ID: 1\n",
            "ID: 3, Name: java, Type: lab, Teacher ID: 2, Semester ID: 2\n",
            "ID: 4, Name: c, Type: lab, Teacher ID: 2, Semester ID: 1\n",
            "\n",
            "1. Add Student\n",
            "2. Add Teacher\n",
            "3. Add Semester\n",
            "4. Add Course\n",
            "5. Assign Courses\n",
            "6. Submit Feedback\n",
            "7. View Teacher Profiles\n",
            "8. View Courses\n",
            "9. View Semesters\n",
            "10. View Feedback\n",
            "11. Exit\n",
            "Enter your choice: 5\n",
            "Enter student ID to assign courses: 1\n",
            "Enter semester ID: 2\n",
            "Enter theory course IDs (comma-separated): 1,2,3\n",
            "Enter lab course IDs (comma-separated): 2\n",
            "Courses assigned successfully.\n",
            "\n",
            "1. Add Student\n",
            "2. Add Teacher\n",
            "3. Add Semester\n",
            "4. Add Course\n",
            "5. Assign Courses\n",
            "6. Submit Feedback\n",
            "7. View Teacher Profiles\n",
            "8. View Courses\n",
            "9. View Semesters\n",
            "10. View Feedback\n",
            "11. Exit\n",
            "Enter your choice: 8\n",
            "ID: 1, Name: data science, Type: theory, Teacher ID: 1, Semester ID: 1\n",
            "ID: 2, Name: python, Type: theory, Teacher ID: 1, Semester ID: 1\n",
            "ID: 3, Name: java, Type: lab, Teacher ID: 1, Semester ID: 2\n",
            "ID: 4, Name: c, Type: lab, Teacher ID: 2, Semester ID: 1\n",
            "\n",
            "1. Add Student\n",
            "2. Add Teacher\n",
            "3. Add Semester\n",
            "4. Add Course\n",
            "5. Assign Courses\n",
            "6. Submit Feedback\n",
            "7. View Teacher Profiles\n",
            "8. View Courses\n",
            "9. View Semesters\n",
            "10. View Feedback\n",
            "11. Exit\n",
            "Enter your choice: 3\n",
            "Enter semester number: 4\n",
            "Error: You can enter only 2 semesters \n",
            "\n",
            "1. Add Student\n",
            "2. Add Teacher\n",
            "3. Add Semester\n",
            "4. Add Course\n",
            "5. Assign Courses\n",
            "6. Submit Feedback\n",
            "7. View Teacher Profiles\n",
            "8. View Courses\n",
            "9. View Semesters\n",
            "10. View Feedback\n",
            "11. Exit\n",
            "Enter your choice: 11\n"
          ]
        }
      ]
    },
    {
      "cell_type": "markdown",
      "source": [
        "<small>**Exit:** <br>If the user selects \"Exit\" (option 11), the loop terminates and the database connection is closed."
      ],
      "metadata": {
        "id": "PLahku932JQA"
      }
    },
    {
      "cell_type": "markdown",
      "source": [
        "**6.Database Closure**<br>\n",
        "<small>\n",
        "The close method in the Database class is called at the end to close the database connection."
      ],
      "metadata": {
        "id": "pCrpC-202a1Y"
      }
    },
    {
      "cell_type": "code",
      "source": [
        "system.db.close()"
      ],
      "metadata": {
        "id": "hdAwKO7zzVy2"
      },
      "execution_count": null,
      "outputs": []
    },
    {
      "cell_type": "markdown",
      "source": [
        "**<big>conclusion:</big>** <br>This system simulates a simple university course selection and feedback management system using SQLite. It handles student, teacher, course, and feedback management efficiently through basic SQL operations."
      ],
      "metadata": {
        "id": "3Uyzg0ZNIivS"
      }
    }
  ]
}